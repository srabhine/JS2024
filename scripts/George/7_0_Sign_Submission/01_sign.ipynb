{
 "cells": [
  {
   "cell_type": "code",
   "execution_count": null,
   "id": "initial_id",
   "metadata": {
    "collapsed": true
   },
   "outputs": [],
   "source": [
    "import os\n",
    "import pandas as pd\n",
    "import polars as pl\n",
    "import numpy as np\n",
    "import kaggle_evaluation.jane_street_inference_server"
   ]
  },
  {
   "cell_type": "code",
   "outputs": [],
   "source": [
    "file_path = \"/kaggle/input/jane-street-real-time-market-data-forecasting/test.parquet/date_id=0/part-0.parquet\"\n",
    "df = pl.scan_parquet(file_path)\n",
    "temp_test = df.collect()  # Collect into a Polars DataFrame"
   ],
   "metadata": {
    "collapsed": false
   },
   "id": "5263dbe1371eb514"
  },
  {
   "cell_type": "code",
   "outputs": [],
   "source": [
    "temp_test = temp_test.to_pandas().fillna(0)\n",
    "before_test = temp_test.copy()"
   ],
   "metadata": {
    "collapsed": false
   },
   "id": "f8e57f496a0780a4"
  },
  {
   "cell_type": "code",
   "outputs": [],
   "source": [
    "# if the sign is same as before, use the before sign\n",
    "# if the sign is not the same as before, use the opposite previous sign\n",
    "\n",
    "sign_compute_lambda = lambda row: (\n",
    "    np.sign(row['feature_01_before']) * 0.078343086\n",
    "    if np.sign(row['feature_01_now']) == np.sign(row['feature_01_before'])\n",
    "    else -np.sign(row['feature_01_before']) * 0.078343086\n",
    ")\n",
    "\n",
    "def predict(test: pl.DataFrame, lags: pl.DataFrame | None) -> pl.DataFrame:\n",
    "    global before_test\n",
    "        \n",
    "    now_test = test.to_pandas().fillna(0).replace({-np.inf: -1, np.inf: 1})\n",
    "    features_names = [\"symbol_id\", \"feature_01\"]\n",
    "    \n",
    "    # Apply the lambda function to compute predictions\n",
    "    merged_df = pd.merge(now_test[features_names], before_test[features_names], on = \"symbol_id\", how=\"left\", suffixes=('_now','_before'))\n",
    "    pred = merged_df.apply(sign_compute_lambda, axis=1).fillna(0).values\n",
    "    \n",
    "    predictions = test.select('row_id').with_columns(\n",
    "        pl.Series(\n",
    "            name='responder_6', \n",
    "            values=pred,  \n",
    "            dtype=pl.Float64\n",
    "        )\n",
    "    )\n",
    "    \n",
    "    # save the current test a before test, so we can keep it for next round\n",
    "    before_test = now_test.copy()\n",
    "    assert len(predictions) == len(test)\n",
    "\n",
    "    return predictions\n"
   ],
   "metadata": {
    "collapsed": false
   },
   "id": "e9f61a5439bb5b20"
  },
  {
   "cell_type": "code",
   "outputs": [],
   "source": [
    "%%time\n",
    "# Setup the inference server\n",
    "inference_server = kaggle_evaluation.jane_street_inference_server.JSInferenceServer(predict)\n",
    "\n",
    "# Running the inference server\n",
    "if os.getenv('KAGGLE_IS_COMPETITION_RERUN'):\n",
    "    inference_server.serve()\n",
    "else:\n",
    "    inference_server.run_local_gateway((\n",
    "        '/kaggle/input/jane-street-real-time-market-data-forecasting/test.parquet',\n",
    "        '/kaggle/input/jane-street-real-time-market-data-forecasting/lags.parquet',\n",
    "    ))"
   ],
   "metadata": {
    "collapsed": false
   },
   "id": "2b4faf49e670e57d"
  },
  {
   "cell_type": "code",
   "outputs": [],
   "source": [],
   "metadata": {
    "collapsed": false
   },
   "id": "e8857ab7a1d6d0fa"
  },
  {
   "cell_type": "code",
   "outputs": [],
   "source": [],
   "metadata": {
    "collapsed": false
   },
   "id": "9e8f8e4f5c87f6e4"
  }
 ],
 "metadata": {
  "kernelspec": {
   "display_name": "Python 3",
   "language": "python",
   "name": "python3"
  },
  "language_info": {
   "codemirror_mode": {
    "name": "ipython",
    "version": 2
   },
   "file_extension": ".py",
   "mimetype": "text/x-python",
   "name": "python",
   "nbconvert_exporter": "python",
   "pygments_lexer": "ipython2",
   "version": "2.7.6"
  }
 },
 "nbformat": 4,
 "nbformat_minor": 5
}
