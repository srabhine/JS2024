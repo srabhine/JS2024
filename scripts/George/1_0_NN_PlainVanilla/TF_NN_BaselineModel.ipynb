{
 "cells": [
  {
   "cell_type": "code",
   "execution_count": 1,
   "id": "65ab0393",
   "metadata": {
    "_cell_guid": "b1076dfc-b9ad-4769-8c92-a6c4dae69d19",
    "_uuid": "8f2839f25d086af736a60e9eeb907d3b93b6e0e5",
    "execution": {
     "iopub.execute_input": "2024-11-19T03:21:49.714874Z",
     "iopub.status.busy": "2024-11-19T03:21:49.714607Z",
     "iopub.status.idle": "2024-11-19T03:22:12.204074Z",
     "shell.execute_reply": "2024-11-19T03:22:12.203406Z"
    },
    "papermill": {
     "duration": 22.495372,
     "end_time": "2024-11-19T03:22:12.206135",
     "exception": false,
     "start_time": "2024-11-19T03:21:49.710763",
     "status": "completed"
    },
    "tags": []
   },
   "outputs": [],
   "source": [
    "import os\n",
    "import polars as pl\n",
    "import tensorflow as tf\n",
    "import numpy as np\n",
    "import pandas as pd\n",
    "from sklearn.model_selection import train_test_split\n",
    "from sklearn.metrics import r2_score\n",
    "from tensorflow.keras import layers, models, optimizers, regularizers, callbacks\n",
    "import kaggle_evaluation.jane_street_inference_server"
   ]
  },
  {
   "cell_type": "code",
   "execution_count": 2,
   "id": "12579466",
   "metadata": {
    "execution": {
     "iopub.execute_input": "2024-11-19T03:22:12.212838Z",
     "iopub.status.busy": "2024-11-19T03:22:12.212331Z",
     "iopub.status.idle": "2024-11-19T03:22:12.216078Z",
     "shell.execute_reply": "2024-11-19T03:22:12.215259Z"
    },
    "papermill": {
     "duration": 0.008631,
     "end_time": "2024-11-19T03:22:12.217649",
     "exception": false,
     "start_time": "2024-11-19T03:22:12.209018",
     "status": "completed"
    },
    "tags": []
   },
   "outputs": [],
   "source": [
    "# model1 = tf.keras.models.load_model(\"/kaggle/input/tfmodels/tensorflow2/default/1/tf_nn_model3.keras\")\n",
    "# model2 = tf.keras.models.load_model(\"/kaggle/input/tfmodels/tensorflow2/default/1/tf_nn_model4_no_concat.keras\")"
   ]
  },
  {
   "cell_type": "markdown",
   "id": "4e12c78e",
   "metadata": {
    "papermill": {
     "duration": 0.00235,
     "end_time": "2024-11-19T03:22:12.222392",
     "exception": false,
     "start_time": "2024-11-19T03:22:12.220042",
     "status": "completed"
    },
    "tags": []
   },
   "source": [
    "29/70\n",
    "loss: 1.6219 - r2_score: 0.0212 - val_loss: 1.1182 - val_r2_score: 0.0049 - learning_rate: 1.0000e-05\n",
    "\n",
    "\n",
    "R² Score on validation data: 0.004866182804107666"
   ]
  },
  {
   "cell_type": "code",
   "execution_count": 3,
   "id": "c2c31f49",
   "metadata": {
    "execution": {
     "iopub.execute_input": "2024-11-19T03:22:12.228065Z",
     "iopub.status.busy": "2024-11-19T03:22:12.227538Z",
     "iopub.status.idle": "2024-11-19T03:22:13.891492Z",
     "shell.execute_reply": "2024-11-19T03:22:13.890614Z"
    },
    "papermill": {
     "duration": 1.669111,
     "end_time": "2024-11-19T03:22:13.893718",
     "exception": false,
     "start_time": "2024-11-19T03:22:12.224607",
     "status": "completed"
    },
    "tags": []
   },
   "outputs": [],
   "source": [
    "\n",
    "model_path = [\n",
    "#     \"/kaggle/input/tfmodels/tensorflow2/default/1/tf_nn_model3.keras\",\n",
    "    \"/kaggle/input/tf_nn_lagfeatures/tensorflow2/default/1/tf_nn_model12_lagfeatures.keras\"\n",
    "]\n",
    "\n",
    "models = []\n",
    "for pt in model_path:\n",
    "    _model = tf.keras.models.load_model(pt)\n",
    "    models.append(_model)"
   ]
  },
  {
   "cell_type": "code",
   "execution_count": 4,
   "id": "6289ad13",
   "metadata": {
    "execution": {
     "iopub.execute_input": "2024-11-19T03:22:13.900403Z",
     "iopub.status.busy": "2024-11-19T03:22:13.899692Z",
     "iopub.status.idle": "2024-11-19T03:22:13.903550Z",
     "shell.execute_reply": "2024-11-19T03:22:13.902741Z"
    },
    "papermill": {
     "duration": 0.00856,
     "end_time": "2024-11-19T03:22:13.905037",
     "exception": false,
     "start_time": "2024-11-19T03:22:13.896477",
     "status": "completed"
    },
    "tags": []
   },
   "outputs": [],
   "source": [
    "# file_path = \"/kaggle/input/jane-street-real-time-market-data-forecasting/test.parquet/date_id=0/part-0.parquet\"\n",
    "# lazy_df = pl.scan_parquet(file_path)\n",
    "# test = lazy_df.collect()  # Collect into a Polars DataFrame\n",
    "# file_path = \"/kaggle/input/jane-street-real-time-market-data-forecasting/lags.parquet/date_id=0/part-0.parquet\"\n",
    "# lazy_df = pl.scan_parquet(file_path)\n",
    "# lags = lazy_df.collect()  # Collect into a Polars DataFrame"
   ]
  },
  {
   "cell_type": "markdown",
   "id": "ebeb2aa8",
   "metadata": {
    "papermill": {
     "duration": 0.002053,
     "end_time": "2024-11-19T03:22:13.909377",
     "exception": false,
     "start_time": "2024-11-19T03:22:13.907324",
     "status": "completed"
    },
    "tags": []
   },
   "source": []
  },
  {
   "cell_type": "code",
   "execution_count": null,
   "id": "a684e828",
   "metadata": {
    "execution": {
     "iopub.execute_input": "2024-11-19T03:19:31.538214Z",
     "iopub.status.busy": "2024-11-19T03:19:31.537585Z",
     "iopub.status.idle": "2024-11-19T03:19:31.622257Z",
     "shell.execute_reply": "2024-11-19T03:19:31.621355Z",
     "shell.execute_reply.started": "2024-11-19T03:19:31.538180Z"
    },
    "papermill": {
     "duration": 0.003222,
     "end_time": "2024-11-19T03:22:13.914944",
     "exception": false,
     "start_time": "2024-11-19T03:22:13.911722",
     "status": "completed"
    },
    "tags": []
   },
   "outputs": [],
   "source": [
    "\n"
   ]
  },
  {
   "cell_type": "code",
   "execution_count": 5,
   "id": "2f5dee3a",
   "metadata": {
    "execution": {
     "iopub.execute_input": "2024-11-19T03:22:13.920539Z",
     "iopub.status.busy": "2024-11-19T03:22:13.919971Z",
     "iopub.status.idle": "2024-11-19T03:22:13.923536Z",
     "shell.execute_reply": "2024-11-19T03:22:13.922728Z"
    },
    "papermill": {
     "duration": 0.007952,
     "end_time": "2024-11-19T03:22:13.925043",
     "exception": false,
     "start_time": "2024-11-19T03:22:13.917091",
     "status": "completed"
    },
    "tags": []
   },
   "outputs": [],
   "source": [
    "\n",
    "# )"
   ]
  },
  {
   "cell_type": "code",
   "execution_count": 6,
   "id": "e8095bd0",
   "metadata": {
    "execution": {
     "iopub.execute_input": "2024-11-19T03:22:13.930551Z",
     "iopub.status.busy": "2024-11-19T03:22:13.930276Z",
     "iopub.status.idle": "2024-11-19T03:22:13.940904Z",
     "shell.execute_reply": "2024-11-19T03:22:13.940111Z"
    },
    "papermill": {
     "duration": 0.015355,
     "end_time": "2024-11-19T03:22:13.942656",
     "exception": false,
     "start_time": "2024-11-19T03:22:13.927301",
     "status": "completed"
    },
    "tags": []
   },
   "outputs": [],
   "source": [
    "\n",
    "lags_ : pl.DataFrame | None = None\n",
    "\n",
    "def predict(test: pl.DataFrame, lags: pl.DataFrame | None) -> pl.DataFrame | pd.DataFrame:\n",
    "    global lags_, models, lag_feature_original, lag_feature_rename # 使用全局变量 lags_\n",
    "    \n",
    "\n",
    "    if lags is not None:\n",
    "        lags_ = lags\n",
    "        \n",
    "    lag_feature_original = [\"date_id\", \"time_id\", \"symbol_id\"]  + [f\"feature_{i:02d}\" for i in range(79)]\n",
    "    lag_feature_rename = { f\"feature_{idx:02d}\" : f\"feature_{idx:02d}_lag_1\" for idx in range(79)}\n",
    "    feature_names = [f\"feature_{i:02d}\" for i in range(79)] + [f\"feature_{i:02d}_lag_1\" for i in range(79)] + [f\"responder_{idx}_lag_1\" for idx in range(9)]\n",
    "\n",
    "\n",
    "    lag_feature = test.select(pl.col(lag_feature_original))\n",
    "    lag_feature = lag_feature.rename(lag_feature_rename)\n",
    "    lag_feature = lag_feature.with_columns(\n",
    "        time_id = pl.col('time_id') + 1,\n",
    "    )\n",
    "    lag_feature = lag_feature.group_by([\"date_id\", \"time_id\" ,\"symbol_id\"], maintain_order=True).last()  # pick up last record of previous date\n",
    "    test = test.join(lag_feature, on=[\"date_id\", \"time_id\" ,\"symbol_id\"],  how=\"left\")\n",
    "    predictions = test.select(\n",
    "        'row_id',  # 选择 `row_id` 列\n",
    "        pl.lit(0.0).alias('responder_6'), \n",
    "    )\n",
    "\n",
    "\n",
    "    if not lags is None:\n",
    "        lags = lags.group_by([\"date_id\", \"symbol_id\"], maintain_order=True).last()  \n",
    "        test = test.join(lags, on=[\"date_id\", \"symbol_id\"], how=\"left\") \n",
    "    else:\n",
    "\n",
    "        test = test.with_columns(\n",
    "            (pl.lit(0.0).alias(f'responder_{idx}_lag_1') for idx in range(9))  # 创建 9 个滞后特征，默认值为 0\n",
    "        )\n",
    "\n",
    "    preds = np.zeros((test.shape[0],))\n",
    "\n",
    "\n",
    "    symbol_ids = test.select('symbol_id').to_numpy()[:, 0]\n",
    "    test_input = test[feature_names].to_pandas()\n",
    "    test_input = test_input.bfill().ffill().fillna(0)  \n",
    "\n",
    "    for md in models:\n",
    "        preds += (md.predict(test_input[feature_names]).ravel() / len(models))\n",
    "        \n",
    "    predictions = test.select('row_id').\\\n",
    "    with_columns(\n",
    "        pl.Series(\n",
    "            name='responder_6', \n",
    "            values=np.clip(preds, a_min=-5, a_max=5),  \n",
    "            dtype=pl.Float64, \n",
    "        )\n",
    "    )\n",
    "\n",
    "    assert isinstance(predictions, pl.DataFrame | pd.DataFrame)\n",
    "    assert list(predictions.columns) == ['row_id', 'responder_6']\n",
    "    assert len(predictions) == len(test)\n",
    "    \n",
    "    return predictions  # 返回最终的预测结果"
   ]
  },
  {
   "cell_type": "code",
   "execution_count": 7,
   "id": "d28182b0",
   "metadata": {
    "execution": {
     "iopub.execute_input": "2024-11-19T03:22:13.948049Z",
     "iopub.status.busy": "2024-11-19T03:22:13.947817Z",
     "iopub.status.idle": "2024-11-19T03:22:16.597265Z",
     "shell.execute_reply": "2024-11-19T03:22:16.596383Z"
    },
    "papermill": {
     "duration": 2.654212,
     "end_time": "2024-11-19T03:22:16.599126",
     "exception": false,
     "start_time": "2024-11-19T03:22:13.944914",
     "status": "completed"
    },
    "tags": []
   },
   "outputs": [
    {
     "name": "stderr",
     "output_type": "stream",
     "text": [
      "WARNING: All log messages before absl::InitializeLog() is called are written to STDERR\n",
      "I0000 00:00:1731986534.803688      68 service.cc:145] XLA service 0x7a6fb0008760 initialized for platform CUDA (this does not guarantee that XLA will be used). Devices:\n",
      "I0000 00:00:1731986534.803729      68 service.cc:153]   StreamExecutor device (0): Tesla T4, Compute Capability 7.5\n",
      "I0000 00:00:1731986534.803733      68 service.cc:153]   StreamExecutor device (1): Tesla T4, Compute Capability 7.5\n"
     ]
    },
    {
     "name": "stdout",
     "output_type": "stream",
     "text": [
      "\u001B[1m1/2\u001B[0m \u001B[32m━━━━━━━━━━\u001B[0m\u001B[37m━━━━━━━━━━\u001B[0m \u001B[1m1s\u001B[0m 2s/step"
     ]
    },
    {
     "name": "stderr",
     "output_type": "stream",
     "text": [
      "I0000 00:00:1731986536.128009      68 device_compiler.h:188] Compiled cluster using XLA!  This line is logged at most once for the lifetime of the process.\n"
     ]
    },
    {
     "name": "stdout",
     "output_type": "stream",
     "text": [
      "\u001B[1m2/2\u001B[0m \u001B[32m━━━━━━━━━━━━━━━━━━━━\u001B[0m\u001B[37m\u001B[0m \u001B[1m2s\u001B[0m 394ms/step\n"
     ]
    }
   ],
   "source": [
    "# Setup the inference server\n",
    "inference_server = kaggle_evaluation.jane_street_inference_server.JSInferenceServer(predict)\n",
    "\n",
    "# Running the inference server\n",
    "if os.getenv('KAGGLE_IS_COMPETITION_RERUN'):\n",
    "    inference_server.serve()\n",
    "else:\n",
    "    inference_server.run_local_gateway((\n",
    "        '/kaggle/input/jane-street-real-time-market-data-forecasting/test.parquet',\n",
    "        '/kaggle/input/jane-street-real-time-market-data-forecasting/lags.parquet',\n",
    "    ))"
   ]
  },
  {
   "cell_type": "code",
   "execution_count": null,
   "id": "5942aa2a",
   "metadata": {
    "papermill": {
     "duration": 0.002566,
     "end_time": "2024-11-19T03:22:16.604742",
     "exception": false,
     "start_time": "2024-11-19T03:22:16.602176",
     "status": "completed"
    },
    "tags": []
   },
   "outputs": [],
   "source": []
  }
 ],
 "metadata": {
  "kaggle": {
   "accelerator": "nvidiaTeslaT4",
   "dataSources": [
    {
     "databundleVersionId": 9871156,
     "sourceId": 84493,
     "sourceType": "competition"
    },
    {
     "modelId": 168302,
     "modelInstanceId": 145730,
     "sourceId": 171233,
     "sourceType": "modelInstanceVersion"
    }
   ],
   "dockerImageVersionId": 30786,
   "isGpuEnabled": true,
   "isInternetEnabled": false,
   "language": "python",
   "sourceType": "notebook"
  },
  "kernelspec": {
   "display_name": "Python 3",
   "language": "python",
   "name": "python3"
  },
  "language_info": {
   "codemirror_mode": {
    "name": "ipython",
    "version": 3
   },
   "file_extension": ".py",
   "mimetype": "text/x-python",
   "name": "python",
   "nbconvert_exporter": "python",
   "pygments_lexer": "ipython3",
   "version": "3.10.14"
  },
  "papermill": {
   "default_parameters": {},
   "duration": 33.195241,
   "end_time": "2024-11-19T03:22:19.068863",
   "environment_variables": {},
   "exception": null,
   "input_path": "__notebook__.ipynb",
   "output_path": "__notebook__.ipynb",
   "parameters": {},
   "start_time": "2024-11-19T03:21:45.873622",
   "version": "2.6.0"
  }
 },
 "nbformat": 4,
 "nbformat_minor": 5
}
