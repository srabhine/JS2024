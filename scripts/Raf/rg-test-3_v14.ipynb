{
 "cells": [
  {
   "cell_type": "code",
   "execution_count": 1,
   "id": "3f257a45",
   "metadata": {
    "_cell_guid": "b1076dfc-b9ad-4769-8c92-a6c4dae69d19",
    "_uuid": "8f2839f25d086af736a60e9eeb907d3b93b6e0e5",
    "execution": {
     "iopub.execute_input": "2024-11-12T09:31:26.927283Z",
     "iopub.status.busy": "2024-11-12T09:31:26.926184Z",
     "iopub.status.idle": "2024-11-12T09:31:28.274687Z",
     "shell.execute_reply": "2024-11-12T09:31:28.273583Z"
    },
    "papermill": {
     "duration": 1.356749,
     "end_time": "2024-11-12T09:31:28.277390",
     "exception": false,
     "start_time": "2024-11-12T09:31:26.920641",
     "status": "completed"
    },
    "tags": []
   },
   "outputs": [],
   "source": [
    "import os\n",
    "\n",
    "import pandas as pd\n",
    "import polars as pl\n",
    "\n",
    "import numpy as np\n",
    "\n",
    "import kaggle_evaluation.jane_street_inference_server"
   ]
  },
  {
   "cell_type": "markdown",
   "id": "caa38857",
   "metadata": {
    "papermill": {
     "duration": 0.00297,
     "end_time": "2024-11-12T09:31:28.284075",
     "exception": false,
     "start_time": "2024-11-12T09:31:28.281105",
     "status": "completed"
    },
    "tags": []
   },
   "source": [
    "The evaluation API requires that you set up a server which will respond to inference requests. We have already defined the server; you just need write the predict function. When we evaluate your submission on the hidden test set the client defined in `jane_street_gateway` will run in a different container with direct access to the hidden test set and hand off the data timestep by timestep.\n",
    "\n",
    "\n",
    "\n",
    "Your code will always have access to the published copies of the files."
   ]
  },
  {
   "cell_type": "code",
   "execution_count": 2,
   "id": "66f95408",
   "metadata": {
    "_cell_guid": "b1076dfc-b9ad-4769-8c92-a6c4dae69d19",
    "_uuid": "8f2839f25d086af736a60e9eeb907d3b93b6e0e5",
    "execution": {
     "iopub.execute_input": "2024-11-12T09:31:28.292829Z",
     "iopub.status.busy": "2024-11-12T09:31:28.291781Z",
     "iopub.status.idle": "2024-11-12T09:31:28.305674Z",
     "shell.execute_reply": "2024-11-12T09:31:28.304657Z"
    },
    "papermill": {
     "duration": 0.020839,
     "end_time": "2024-11-12T09:31:28.308099",
     "exception": false,
     "start_time": "2024-11-12T09:31:28.287260",
     "status": "completed"
    },
    "tags": []
   },
   "outputs": [],
   "source": [
    "lags_ : pl.DataFrame | None = None\n",
    "\n",
    "\n",
    "# Replace this function with your inference code.\n",
    "# You can return either a Pandas or Polars dataframe, though Polars is recommended.\n",
    "# Each batch of predictions (except the very first) must be returned within 1 minute of the batch features being provided.\n",
    "def predict(test: pl.DataFrame, lags: pl.DataFrame | None) -> pl.DataFrame | pd.DataFrame:\n",
    "    \"\"\"Make a prediction.\"\"\"\n",
    "    # All the responders from the previous day are passed in at time_id == 0. We save them in a global variable for access at every time_id.\n",
    "    # Use them as extra features, if you like.\n",
    "\n",
    "    global lags_\n",
    "    if lags is not None:\n",
    "        lags_ = lags\n",
    "\n",
    "    test = test.to_pandas()\n",
    "    lags_ = lags_.to_pandas()\n",
    "    if isinstance(test, pl.DataFrame):\n",
    "        test.to_pandas()\n",
    "    if isinstance(lags_, pl.DataFrame):\n",
    "        lags_.to_pandas()\n",
    "\n",
    "#     print(type(test))\n",
    "#     print(type(lags_))\n",
    "    data = pd.merge(left=test, right=lags_, how='left', left_on=['date_id', 'time_id', 'symbol_id'],\n",
    "                   right_on=['date_id', 'time_id', 'symbol_id'])\n",
    "\n",
    "    # print(data)\n",
    "    a = -0.00099\n",
    "    b = 0.90162\n",
    "\n",
    "    eps = 1e-10\n",
    "    model_pred = a + b * data['responder_6_lag_1']\n",
    "    test_preds = np.clip(model_pred,-5+eps,5-eps)\n",
    "    model_pred.name = 'responder_6'\n",
    "    predictions = pd.concat((data['row_id'], model_pred), axis=1).fillna(0.0)\n",
    "    predictions.columns = ['row_id', 'responder_6']\n",
    "#     print(type(predictions))\n",
    "\n",
    "    # pred = data[_lag_1']]\n",
    "    # print(pred)        \n",
    "    # lags = lags.with_row_index('row_id')\n",
    "    \n",
    "#     a = -0.00099\n",
    "#     b = 0.90162\n",
    "#     print(type(test))\n",
    "#     print(type(lags))\n",
    "#     print(test.head())\n",
    "#     print(lags.head())\n",
    "    \n",
    "    \n",
    "#     predictions = lags.select(\n",
    "#         'row_id',\n",
    "#         (pl.lit(a) + pl.col('responder_6_lag_1') * pl.lit(b)).alias('responder_6'),\n",
    "#     )\n",
    "\n",
    "#     predictions = pd.DataFrame(a + b * lags[\"responder_6_lag_1\"])\n",
    "#     predictions['row_id'] = range(len(predictions))\n",
    "#     print(predictions)\n",
    "#     print(type(predictions))\n",
    "\n",
    "\n",
    "\n",
    "#     # Replace this section with your own predictions\n",
    "#     predictions = test.select(\n",
    "#         'row_id',\n",
    "#         pl.lit(0.0).alias('responder_6'),\n",
    "#     )\n",
    "\n",
    "    if isinstance(predictions, pl.DataFrame):\n",
    "        assert predictions.columns == ['row_id', 'responder_6']\n",
    "    elif isinstance(predictions, pd.DataFrame):\n",
    "#         print('Here')\n",
    "#         print(predictions.columns)\n",
    "        assert (predictions.columns == ['row_id', 'responder_6']).all()\n",
    "    else:\n",
    "#         print(type(predictions))\n",
    "        raise TypeError('The predict function must return a DataFrame')\n",
    "    # Confirm has as many rows as the test data.\n",
    "    assert len(predictions) == len(test)\n",
    "\n",
    "    return predictions"
   ]
  },
  {
   "cell_type": "code",
   "execution_count": 3,
   "id": "7648409d",
   "metadata": {
    "execution": {
     "iopub.execute_input": "2024-11-12T09:31:28.316878Z",
     "iopub.status.busy": "2024-11-12T09:31:28.315951Z",
     "iopub.status.idle": "2024-11-12T09:31:28.320566Z",
     "shell.execute_reply": "2024-11-12T09:31:28.319576Z"
    },
    "papermill": {
     "duration": 0.011302,
     "end_time": "2024-11-12T09:31:28.322806",
     "exception": false,
     "start_time": "2024-11-12T09:31:28.311504",
     "status": "completed"
    },
    "tags": []
   },
   "outputs": [],
   "source": [
    "# test_df = pd.read_parquet('/kaggle/input/jane-street-real-time-market-data-forecasting/test.parquet/date_id=0/part-0.parquet')\n",
    "# test_df.head()\n",
    "\n",
    "# print(len(test_df))\n"
   ]
  },
  {
   "cell_type": "code",
   "execution_count": 4,
   "id": "59887cca",
   "metadata": {
    "execution": {
     "iopub.execute_input": "2024-11-12T09:31:28.331752Z",
     "iopub.status.busy": "2024-11-12T09:31:28.330785Z",
     "iopub.status.idle": "2024-11-12T09:31:28.335709Z",
     "shell.execute_reply": "2024-11-12T09:31:28.334710Z"
    },
    "papermill": {
     "duration": 0.011712,
     "end_time": "2024-11-12T09:31:28.337982",
     "exception": false,
     "start_time": "2024-11-12T09:31:28.326270",
     "status": "completed"
    },
    "tags": []
   },
   "outputs": [],
   "source": [
    "# lags_df = pd.read_parquet('/kaggle/input/jane-street-real-time-market-data-forecasting/lags.parquet/date_id=0/part-0.parquet')\n",
    "# lags_df.head()\n",
    "# lags_df = lags_df.with_row_count('row_id')\n",
    "# print(len(lags_df))"
   ]
  },
  {
   "cell_type": "code",
   "execution_count": 5,
   "id": "47a520c2",
   "metadata": {
    "execution": {
     "iopub.execute_input": "2024-11-12T09:31:28.345897Z",
     "iopub.status.busy": "2024-11-12T09:31:28.345490Z",
     "iopub.status.idle": "2024-11-12T09:31:28.350251Z",
     "shell.execute_reply": "2024-11-12T09:31:28.349204Z"
    },
    "papermill": {
     "duration": 0.011361,
     "end_time": "2024-11-12T09:31:28.352587",
     "exception": false,
     "start_time": "2024-11-12T09:31:28.341226",
     "status": "completed"
    },
    "tags": []
   },
   "outputs": [],
   "source": [
    "# data = pd.merge(left=test_df, right=lags_df, how='left', left_on=['date_id', 'time_id', 'symbol_id'],\n",
    "#                right_on=['date_id', 'time_id', 'symbol_id'])\n",
    "\n",
    "# # print(data)\n",
    "# a = -0.00099\n",
    "# b = 0.90162\n",
    "\n",
    "# pred =  a + b * data['responder_6_lag_1']\n",
    "# pred.columns = ['row_id', 'responder_6']\n",
    "# # pred = data[_lag_1']]\n",
    "# print(pred)"
   ]
  },
  {
   "cell_type": "code",
   "execution_count": 6,
   "id": "dd2583cc",
   "metadata": {
    "execution": {
     "iopub.execute_input": "2024-11-12T09:31:28.360570Z",
     "iopub.status.busy": "2024-11-12T09:31:28.360194Z",
     "iopub.status.idle": "2024-11-12T09:31:28.364707Z",
     "shell.execute_reply": "2024-11-12T09:31:28.363721Z"
    },
    "papermill": {
     "duration": 0.011081,
     "end_time": "2024-11-12T09:31:28.366910",
     "exception": false,
     "start_time": "2024-11-12T09:31:28.355829",
     "status": "completed"
    },
    "tags": []
   },
   "outputs": [],
   "source": [
    "# y_pred = predict(test_df, lags_df)\n",
    "# print(y_pred)"
   ]
  },
  {
   "cell_type": "code",
   "execution_count": 7,
   "id": "bdf69550",
   "metadata": {
    "execution": {
     "iopub.execute_input": "2024-11-12T09:31:28.375128Z",
     "iopub.status.busy": "2024-11-12T09:31:28.374704Z",
     "iopub.status.idle": "2024-11-12T09:31:28.379991Z",
     "shell.execute_reply": "2024-11-12T09:31:28.378998Z"
    },
    "papermill": {
     "duration": 0.011994,
     "end_time": "2024-11-12T09:31:28.382167",
     "exception": false,
     "start_time": "2024-11-12T09:31:28.370173",
     "status": "completed"
    },
    "tags": []
   },
   "outputs": [],
   "source": [
    "# import pandas as pd\n",
    "# # Initialize a list to hold samples from each file\n",
    "# samples = []\n",
    "# # Load a sample from each file\n",
    "# for i in range(10):\n",
    "#     file_path = f\"/kaggle/input/jane-street-real-time-market-data-forecasting/train.parquet/partition_id={i}/part-0.parquet\"\n",
    "#     chunk = pd.read_parquet(file_path)\n",
    "    \n",
    "#     # Take a sample of the data (adjust sample size as needed)\n",
    "#     sample_chunk = chunk.sample(n=100000, random_state=42)  # For example, 100 rows\n",
    "#     samples.append(sample_chunk)\n",
    "# # Concatenate all samples into one DataFrame if needed\n",
    "# sample_df = pd.concat(samples, ignore_index=True)\n"
   ]
  },
  {
   "cell_type": "markdown",
   "id": "df0ad171",
   "metadata": {
    "papermill": {
     "duration": 0.003059,
     "end_time": "2024-11-12T09:31:28.388663",
     "exception": false,
     "start_time": "2024-11-12T09:31:28.385604",
     "status": "completed"
    },
    "tags": []
   },
   "source": [
    "When your notebook is run on the hidden test set, inference_server.serve must be called within 15 minutes of the notebook starting or the gateway will throw an error. If you need more than 15 minutes to load your model you can do so during the very first `predict` call, which does not have the usual 1 minute response deadline."
   ]
  },
  {
   "cell_type": "code",
   "execution_count": 8,
   "id": "cf892f16",
   "metadata": {
    "_cell_guid": "b1076dfc-b9ad-4769-8c92-a6c4dae69d19",
    "_uuid": "8f2839f25d086af736a60e9eeb907d3b93b6e0e5",
    "execution": {
     "iopub.execute_input": "2024-11-12T09:31:28.396803Z",
     "iopub.status.busy": "2024-11-12T09:31:28.396393Z",
     "iopub.status.idle": "2024-11-12T09:31:28.848918Z",
     "shell.execute_reply": "2024-11-12T09:31:28.847797Z"
    },
    "papermill": {
     "duration": 0.459579,
     "end_time": "2024-11-12T09:31:28.851520",
     "exception": false,
     "start_time": "2024-11-12T09:31:28.391941",
     "status": "completed"
    },
    "tags": []
   },
   "outputs": [],
   "source": [
    "inference_server = kaggle_evaluation.jane_street_inference_server.JSInferenceServer(predict)\n",
    "\n",
    "if os.getenv('KAGGLE_IS_COMPETITION_RERUN'):\n",
    "    inference_server.serve()\n",
    "else:\n",
    "    inference_server.run_local_gateway(\n",
    "        (\n",
    "            '/kaggle/input/jane-street-real-time-market-data-forecasting/test.parquet',\n",
    "            '/kaggle/input/jane-street-real-time-market-data-forecasting/lags.parquet',\n",
    "        )\n",
    "    )"
   ]
  }
 ],
 "metadata": {
  "kaggle": {
   "accelerator": "none",
   "dataSources": [
    {
     "databundleVersionId": 9871156,
     "sourceId": 84493,
     "sourceType": "competition"
    }
   ],
   "dockerImageVersionId": 30786,
   "isGpuEnabled": false,
   "isInternetEnabled": false,
   "language": "python",
   "sourceType": "notebook"
  },
  "kernelspec": {
   "display_name": "Python 3",
   "language": "python",
   "name": "python3"
  },
  "language_info": {
   "codemirror_mode": {
    "name": "ipython",
    "version": 3
   },
   "file_extension": ".py",
   "mimetype": "text/x-python",
   "name": "python",
   "nbconvert_exporter": "python",
   "pygments_lexer": "ipython3",
   "version": "3.10.14"
  },
  "papermill": {
   "default_parameters": {},
   "duration": 5.238224,
   "end_time": "2024-11-12T09:31:29.375977",
   "environment_variables": {},
   "exception": null,
   "input_path": "__notebook__.ipynb",
   "output_path": "__notebook__.ipynb",
   "parameters": {},
   "start_time": "2024-11-12T09:31:24.137753",
   "version": "2.6.0"
  }
 },
 "nbformat": 4,
 "nbformat_minor": 5
}
