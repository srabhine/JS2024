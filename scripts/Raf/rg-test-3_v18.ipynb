{
 "cells": [
  {
   "cell_type": "code",
   "execution_count": 1,
   "id": "54637095",
   "metadata": {
    "_cell_guid": "b1076dfc-b9ad-4769-8c92-a6c4dae69d19",
    "_uuid": "8f2839f25d086af736a60e9eeb907d3b93b6e0e5",
    "execution": {
     "iopub.execute_input": "2024-11-14T10:41:09.142046Z",
     "iopub.status.busy": "2024-11-14T10:41:09.141648Z",
     "iopub.status.idle": "2024-11-14T10:41:10.499646Z",
     "shell.execute_reply": "2024-11-14T10:41:10.498557Z"
    },
    "papermill": {
     "duration": 1.365977,
     "end_time": "2024-11-14T10:41:10.502150",
     "exception": false,
     "start_time": "2024-11-14T10:41:09.136173",
     "status": "completed"
    },
    "tags": []
   },
   "outputs": [],
   "source": [
    "import os\n",
    "\n",
    "import pandas as pd\n",
    "import polars as pl\n",
    "\n",
    "import numpy as np\n",
    "\n",
    "import kaggle_evaluation.jane_street_inference_server"
   ]
  },
  {
   "cell_type": "markdown",
   "id": "b78e578d",
   "metadata": {
    "papermill": {
     "duration": 0.003221,
     "end_time": "2024-11-14T10:41:10.510064",
     "exception": false,
     "start_time": "2024-11-14T10:41:10.506843",
     "status": "completed"
    },
    "tags": []
   },
   "source": [
    "The evaluation API requires that you set up a server which will respond to inference requests. We have already defined the server; you just need write the predict function. When we evaluate your submission on the hidden test set the client defined in `jane_street_gateway` will run in a different container with direct access to the hidden test set and hand off the data timestep by timestep.\n",
    "\n",
    "\n",
    "\n",
    "Your code will always have access to the published copies of the files."
   ]
  },
  {
   "cell_type": "code",
   "execution_count": 2,
   "id": "b1a62beb",
   "metadata": {
    "_cell_guid": "b1076dfc-b9ad-4769-8c92-a6c4dae69d19",
    "_uuid": "8f2839f25d086af736a60e9eeb907d3b93b6e0e5",
    "execution": {
     "iopub.execute_input": "2024-11-14T10:41:10.519301Z",
     "iopub.status.busy": "2024-11-14T10:41:10.518805Z",
     "iopub.status.idle": "2024-11-14T10:41:10.532320Z",
     "shell.execute_reply": "2024-11-14T10:41:10.531268Z"
    },
    "papermill": {
     "duration": 0.021,
     "end_time": "2024-11-14T10:41:10.534805",
     "exception": false,
     "start_time": "2024-11-14T10:41:10.513805",
     "status": "completed"
    },
    "tags": []
   },
   "outputs": [],
   "source": [
    "lags_ : pl.DataFrame | None = None\n",
    "\n",
    "\n",
    "# Replace this function with your inference code.\n",
    "# You can return either a Pandas or Polars dataframe, though Polars is recommended.\n",
    "# Each batch of predictions (except the very first) must be returned within 1 minute of the batch features being provided.\n",
    "def predict(test: pl.DataFrame, lags: pl.DataFrame | None) -> pl.DataFrame | pd.DataFrame:\n",
    "    \"\"\"Make a prediction.\"\"\"\n",
    "    # All the responders from the previous day are passed in at time_id == 0. We save them in a global variable for access at every time_id.\n",
    "    # Use them as extra features, if you like.\n",
    "\n",
    "    global lags_\n",
    "    if lags is not None:\n",
    "        lags_ = lags\n",
    "\n",
    "    test_df = test.to_pandas()\n",
    "    lags_df = lags_.to_pandas()\n",
    "\n",
    "#     test = test.to_pandas()\n",
    "#     lags_ = lags_.to_pandas()\n",
    "    if isinstance(test, pl.DataFrame):\n",
    "        test.to_pandas()\n",
    "    if isinstance(lags_, pl.DataFrame):\n",
    "        lags_.to_pandas()\n",
    "        \n",
    "    X_test = pd.merge(test_df, lags_df, on=['time_id', 'symbol_id'], how='left', suffixes = (\"\",\"_drop\"))\n",
    "#     print(X_test)\n",
    "\n",
    "#     print(type(test))\n",
    "#     print(type(lags_))\n",
    "#     data = pd.merge(left=test, right=lags_, how='left', left_on=['time_id', 'symbol_id'],\n",
    "#                    right_on=['time_id', 'symbol_id'])\n",
    "\n",
    "    # print(data)\n",
    "    a = -0.00099\n",
    "    b = 0.90162\n",
    "\n",
    "    eps = 1e-10\n",
    "#     model_pred = a + b * data['responder_6_lag_1']\n",
    "    model_pred = a + b * X_test['responder_6_lag_1']\n",
    "    test_preds = np.clip(model_pred,-5 + eps,5 - eps)\n",
    "    model_pred.name = 'responder_6'\n",
    "#     predictions = pd.concat((data['row_id'], test_preds), axis=1).fillna(0.0)\n",
    "    predictions = pd.concat((X_test['row_id'], test_preds), axis=1).fillna(0.0)\n",
    "    predictions.columns = ['row_id', 'responder_6']\n",
    "#     predictions = predictions.loc[test.index]\n",
    "#     print(type(predictions))\n",
    "\n",
    "    # pred = data[_lag_1']]\n",
    "    # print(pred)        \n",
    "    # lags = lags.with_row_index('row_id')\n",
    "    \n",
    "#     a = -0.00099\n",
    "#     b = 0.90162\n",
    "#     print(type(test))\n",
    "#     print(type(lags))\n",
    "#     print(test.head())\n",
    "#     print(lags.head())\n",
    "    \n",
    "    \n",
    "#     predictions = lags.select(\n",
    "#         'row_id',\n",
    "#         (pl.lit(a) + pl.col('responder_6_lag_1') * pl.lit(b)).alias('responder_6'),\n",
    "#     )\n",
    "\n",
    "#     predictions = pd.DataFrame(a + b * lags[\"responder_6_lag_1\"])\n",
    "#     predictions['row_id'] = range(len(predictions))\n",
    "#     print(predictions)\n",
    "#     print(type(predictions))\n",
    "\n",
    "\n",
    "\n",
    "#     # Replace this section with your own predictions\n",
    "#     predictions = test.select(\n",
    "#         'row_id',\n",
    "#         pl.lit(0.0).alias('responder_6'),\n",
    "#     )\n",
    "\n",
    "    if isinstance(predictions, pl.DataFrame):\n",
    "        assert predictions.columns == ['row_id', 'responder_6']\n",
    "    elif isinstance(predictions, pd.DataFrame):\n",
    "#         print('Here')\n",
    "#         print(predictions.columns)\n",
    "        assert (predictions.columns == ['row_id', 'responder_6']).all()\n",
    "    else:\n",
    "#         print(type(predictions))\n",
    "        raise TypeError('The predict function must return a DataFrame')\n",
    "    # Confirm has as many rows as the test data.\n",
    "    assert len(predictions) == len(test)\n",
    "\n",
    "    return predictions"
   ]
  },
  {
   "cell_type": "code",
   "execution_count": 3,
   "id": "aee7ff9d",
   "metadata": {
    "execution": {
     "iopub.execute_input": "2024-11-14T10:41:10.543394Z",
     "iopub.status.busy": "2024-11-14T10:41:10.542967Z",
     "iopub.status.idle": "2024-11-14T10:41:10.547485Z",
     "shell.execute_reply": "2024-11-14T10:41:10.546548Z"
    },
    "papermill": {
     "duration": 0.011217,
     "end_time": "2024-11-14T10:41:10.549612",
     "exception": false,
     "start_time": "2024-11-14T10:41:10.538395",
     "status": "completed"
    },
    "tags": []
   },
   "outputs": [],
   "source": [
    "# test_df = pd.read_parquet('/kaggle/input/jane-street-real-time-market-data-forecasting/test.parquet/date_id=0/part-0.parquet')\n",
    "# test_df.head()\n",
    "\n",
    "# print(len(test_df))\n"
   ]
  },
  {
   "cell_type": "code",
   "execution_count": 4,
   "id": "51e2daa4",
   "metadata": {
    "execution": {
     "iopub.execute_input": "2024-11-14T10:41:10.557805Z",
     "iopub.status.busy": "2024-11-14T10:41:10.557449Z",
     "iopub.status.idle": "2024-11-14T10:41:10.562140Z",
     "shell.execute_reply": "2024-11-14T10:41:10.560860Z"
    },
    "papermill": {
     "duration": 0.011521,
     "end_time": "2024-11-14T10:41:10.564544",
     "exception": false,
     "start_time": "2024-11-14T10:41:10.553023",
     "status": "completed"
    },
    "tags": []
   },
   "outputs": [],
   "source": [
    "# lags_df = pl.read_parquet('/kaggle/input/jane-street-real-time-market-data-forecasting/lags.parquet/date_id=0/part-0.parquet')\n",
    "# lags_df.head()\n",
    "# print(type(lags_df))\n",
    "# # lags_df = lags_df.with_row_count('row_id')\n",
    "# print(len(lags_df))\n",
    "\n"
   ]
  },
  {
   "cell_type": "code",
   "execution_count": 5,
   "id": "80a3d353",
   "metadata": {
    "execution": {
     "iopub.execute_input": "2024-11-14T10:41:10.572822Z",
     "iopub.status.busy": "2024-11-14T10:41:10.572426Z",
     "iopub.status.idle": "2024-11-14T10:41:10.577113Z",
     "shell.execute_reply": "2024-11-14T10:41:10.576169Z"
    },
    "papermill": {
     "duration": 0.011432,
     "end_time": "2024-11-14T10:41:10.579331",
     "exception": false,
     "start_time": "2024-11-14T10:41:10.567899",
     "status": "completed"
    },
    "tags": []
   },
   "outputs": [],
   "source": [
    "# lags = lags_df.group_by([\"date_id\", \"symbol_id\"], maintain_order=True).last() # pick up last record of previous date\n",
    "# print(lags_df)\n",
    "# # test.join(lags, on=[\"date_id\", \"symbol_id\"],  how=\"left\")\n",
    "# print(lags)"
   ]
  },
  {
   "cell_type": "code",
   "execution_count": 6,
   "id": "69249355",
   "metadata": {
    "execution": {
     "iopub.execute_input": "2024-11-14T10:41:10.588043Z",
     "iopub.status.busy": "2024-11-14T10:41:10.587157Z",
     "iopub.status.idle": "2024-11-14T10:41:10.591961Z",
     "shell.execute_reply": "2024-11-14T10:41:10.590926Z"
    },
    "papermill": {
     "duration": 0.011483,
     "end_time": "2024-11-14T10:41:10.594283",
     "exception": false,
     "start_time": "2024-11-14T10:41:10.582800",
     "status": "completed"
    },
    "tags": []
   },
   "outputs": [],
   "source": [
    "# data = pd.merge(left=test_df, right=lags_df, how='left', left_on=['date_id', 'time_id', 'symbol_id'],\n",
    "#                right_on=['date_id', 'time_id', 'symbol_id'])\n",
    "\n",
    "# # print(data)\n",
    "# a = -0.00099\n",
    "# b = 0.90162\n",
    "\n",
    "# pred =  a + b * data['responder_6_lag_1']\n",
    "# pred.columns = ['row_id', 'responder_6']\n",
    "# # pred = data[_lag_1']]\n",
    "# print(pred)"
   ]
  },
  {
   "cell_type": "code",
   "execution_count": 7,
   "id": "3ddcc0df",
   "metadata": {
    "execution": {
     "iopub.execute_input": "2024-11-14T10:41:10.602528Z",
     "iopub.status.busy": "2024-11-14T10:41:10.602111Z",
     "iopub.status.idle": "2024-11-14T10:41:10.607203Z",
     "shell.execute_reply": "2024-11-14T10:41:10.606098Z"
    },
    "papermill": {
     "duration": 0.011677,
     "end_time": "2024-11-14T10:41:10.609399",
     "exception": false,
     "start_time": "2024-11-14T10:41:10.597722",
     "status": "completed"
    },
    "tags": []
   },
   "outputs": [],
   "source": [
    "# test_df = pl.read_parquet('/kaggle/input/jane-street-real-time-market-data-forecasting/test.parquet/date_id=0/part-0.parquet')\n",
    "# lags_df = pl.read_parquet('/kaggle/input/jane-street-real-time-market-data-forecasting/lags.parquet/date_id=0/part-0.parquet')\n",
    "# y_pred = predict(test_df, lags_df)\n",
    "# print(y_pred)"
   ]
  },
  {
   "cell_type": "code",
   "execution_count": 8,
   "id": "b13e48fa",
   "metadata": {
    "execution": {
     "iopub.execute_input": "2024-11-14T10:41:10.617879Z",
     "iopub.status.busy": "2024-11-14T10:41:10.617512Z",
     "iopub.status.idle": "2024-11-14T10:41:10.622270Z",
     "shell.execute_reply": "2024-11-14T10:41:10.621204Z"
    },
    "papermill": {
     "duration": 0.0114,
     "end_time": "2024-11-14T10:41:10.624445",
     "exception": false,
     "start_time": "2024-11-14T10:41:10.613045",
     "status": "completed"
    },
    "tags": []
   },
   "outputs": [],
   "source": [
    "# import pandas as pd\n",
    "# # Initialize a list to hold samples from each file\n",
    "# samples = []\n",
    "# # Load a sample from each file\n",
    "# for i in range(10):\n",
    "#     file_path = f\"/kaggle/input/jane-street-real-time-market-data-forecasting/train.parquet/partition_id={i}/part-0.parquet\"\n",
    "#     chunk = pd.read_parquet(file_path)\n",
    "    \n",
    "#     # Take a sample of the data (adjust sample size as needed)\n",
    "#     sample_chunk = chunk.sample(n=100000, random_state=42)  # For example, 100 rows\n",
    "#     samples.append(sample_chunk)\n",
    "# # Concatenate all samples into one DataFrame if needed\n",
    "# sample_df = pd.concat(samples, ignore_index=True)\n"
   ]
  },
  {
   "cell_type": "markdown",
   "id": "6de05b0b",
   "metadata": {
    "papermill": {
     "duration": 0.003001,
     "end_time": "2024-11-14T10:41:10.630836",
     "exception": false,
     "start_time": "2024-11-14T10:41:10.627835",
     "status": "completed"
    },
    "tags": []
   },
   "source": [
    "When your notebook is run on the hidden test set, inference_server.serve must be called within 15 minutes of the notebook starting or the gateway will throw an error. If you need more than 15 minutes to load your model you can do so during the very first `predict` call, which does not have the usual 1 minute response deadline."
   ]
  },
  {
   "cell_type": "code",
   "execution_count": 9,
   "id": "d5a6eff5",
   "metadata": {
    "_cell_guid": "b1076dfc-b9ad-4769-8c92-a6c4dae69d19",
    "_uuid": "8f2839f25d086af736a60e9eeb907d3b93b6e0e5",
    "execution": {
     "iopub.execute_input": "2024-11-14T10:41:10.640279Z",
     "iopub.status.busy": "2024-11-14T10:41:10.639209Z",
     "iopub.status.idle": "2024-11-14T10:41:11.070378Z",
     "shell.execute_reply": "2024-11-14T10:41:11.069178Z"
    },
    "papermill": {
     "duration": 0.438584,
     "end_time": "2024-11-14T10:41:11.073029",
     "exception": false,
     "start_time": "2024-11-14T10:41:10.634445",
     "status": "completed"
    },
    "tags": []
   },
   "outputs": [],
   "source": [
    "inference_server = kaggle_evaluation.jane_street_inference_server.JSInferenceServer(predict)\n",
    "\n",
    "if os.getenv('KAGGLE_IS_COMPETITION_RERUN'):\n",
    "    inference_server.serve()\n",
    "else:\n",
    "    inference_server.run_local_gateway(\n",
    "        (\n",
    "            '/kaggle/input/jane-street-real-time-market-data-forecasting/test.parquet',\n",
    "            '/kaggle/input/jane-street-real-time-market-data-forecasting/lags.parquet',\n",
    "        )\n",
    "    )"
   ]
  }
 ],
 "metadata": {
  "kaggle": {
   "accelerator": "none",
   "dataSources": [
    {
     "databundleVersionId": 9871156,
     "sourceId": 84493,
     "sourceType": "competition"
    }
   ],
   "dockerImageVersionId": 30786,
   "isGpuEnabled": false,
   "isInternetEnabled": false,
   "language": "python",
   "sourceType": "notebook"
  },
  "kernelspec": {
   "display_name": "Python 3",
   "language": "python",
   "name": "python3"
  },
  "language_info": {
   "codemirror_mode": {
    "name": "ipython",
    "version": 3
   },
   "file_extension": ".py",
   "mimetype": "text/x-python",
   "name": "python",
   "nbconvert_exporter": "python",
   "pygments_lexer": "ipython3",
   "version": "3.10.14"
  },
  "papermill": {
   "default_parameters": {},
   "duration": 5.185128,
   "end_time": "2024-11-14T10:41:11.598114",
   "environment_variables": {},
   "exception": null,
   "input_path": "__notebook__.ipynb",
   "output_path": "__notebook__.ipynb",
   "parameters": {},
   "start_time": "2024-11-14T10:41:06.412986",
   "version": "2.6.0"
  }
 },
 "nbformat": 4,
 "nbformat_minor": 5
}
